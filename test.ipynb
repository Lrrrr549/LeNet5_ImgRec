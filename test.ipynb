{
 "cells": [
  {
   "cell_type": "code",
   "execution_count": null,
   "metadata": {
    "collapsed": true,
    "pycharm": {
     "is_executing": true
    }
   },
   "outputs": [
    {
     "name": "stdout",
     "output_type": "stream",
     "text": [
      "using 84022 images for training.\n"
     ]
    },
    {
     "name": "stderr",
     "output_type": "stream",
     "text": [
      "train epoch[1/20] loss:2.021: 100%|██████████| 876/876 [13:20<00:00,  1.09it/s]\n"
     ]
    },
    {
     "name": "stdout",
     "output_type": "stream",
     "text": [
      "【EPOCH: 】1\n",
      "训练损失为1741.0019246339798\n",
      "训练精度为35.87%\n"
     ]
    },
    {
     "name": "stderr",
     "output_type": "stream",
     "text": [
      "train epoch[2/20] loss:1.408: 100%|██████████| 876/876 [14:37<00:00,  1.00s/it]\n"
     ]
    },
    {
     "name": "stdout",
     "output_type": "stream",
     "text": [
      "【EPOCH: 】2\n",
      "训练损失为1266.013860464096\n",
      "训练精度为52.55%\n"
     ]
    },
    {
     "name": "stderr",
     "output_type": "stream",
     "text": [
      "train epoch[3/20] loss:1.089: 100%|██████████| 876/876 [14:46<00:00,  1.01s/it]\n"
     ]
    },
    {
     "name": "stdout",
     "output_type": "stream",
     "text": [
      "【EPOCH: 】3\n",
      "训练损失为1078.2166528105736\n",
      "训练精度为59.45%\n"
     ]
    },
    {
     "name": "stderr",
     "output_type": "stream",
     "text": [
      "train epoch[4/20] loss:1.055: 100%|██████████| 876/876 [14:57<00:00,  1.02s/it]\n"
     ]
    },
    {
     "name": "stdout",
     "output_type": "stream",
     "text": [
      "【EPOCH: 】4\n",
      "训练损失为977.1033856272697\n",
      "训练精度为63.15%\n"
     ]
    },
    {
     "name": "stderr",
     "output_type": "stream",
     "text": [
      "train epoch[5/20] loss:0.588: 100%|██████████| 876/876 [14:35<00:00,  1.00it/s]\n"
     ]
    },
    {
     "name": "stdout",
     "output_type": "stream",
     "text": [
      "【EPOCH: 】5\n",
      "训练损失为909.2725114226341\n",
      "训练精度为65.81%\n"
     ]
    },
    {
     "name": "stderr",
     "output_type": "stream",
     "text": [
      "train epoch[6/20] loss:0.905: 100%|██████████| 876/876 [14:36<00:00,  1.00s/it]\n"
     ]
    },
    {
     "name": "stdout",
     "output_type": "stream",
     "text": [
      "【EPOCH: 】6\n",
      "训练损失为864.9167885780334\n",
      "训练精度为67.34%\n"
     ]
    },
    {
     "name": "stderr",
     "output_type": "stream",
     "text": [
      "train epoch[7/20] loss:1.452: 100%|██████████| 876/876 [14:39<00:00,  1.00s/it]\n"
     ]
    },
    {
     "name": "stdout",
     "output_type": "stream",
     "text": [
      "【EPOCH: 】7\n",
      "训练损失为817.0662642717361\n",
      "训练精度为69.22%\n"
     ]
    },
    {
     "name": "stderr",
     "output_type": "stream",
     "text": [
      "train epoch[8/20] loss:0.840: 100%|██████████| 876/876 [14:36<00:00,  1.00s/it]\n"
     ]
    },
    {
     "name": "stdout",
     "output_type": "stream",
     "text": [
      "【EPOCH: 】8\n",
      "训练损失为779.7310253977776\n",
      "训练精度为70.73%\n"
     ]
    },
    {
     "name": "stderr",
     "output_type": "stream",
     "text": [
      "train epoch[9/20] loss:0.771:  79%|███████▉  | 690/876 [4:05:45<05:53,  1.90s/it]      "
     ]
    }
   ],
   "source": [
    "import math\n",
    "import pickle\n",
    "import os\n",
    "import matplotlib.pyplot as plt\n",
    "import numpy as np\n",
    "import pandas as pd\n",
    "import torch\n",
    "import torch.nn as nn\n",
    "from tensorflow.keras.preprocessing.sequence import pad_sequences\n",
    "from sklearn.model_selection import train_test_split\n",
    "from torch.utils.data import TensorDataset\n",
    "from torchvision import transforms, datasets\n",
    "from torch import optim\n",
    "from torchnet import meter\n",
    "from tqdm import tqdm\n",
    "from PIL import Image\n",
    "\n",
    "import matplotlib.pyplot as plt\n",
    "\n",
    "# 模型输入参数，需要自己根据需要调整\n",
    "num_class = 20  # 分类数\n",
    "epochs = 20  # 迭代次数\n",
    "batch_size = 96  # 每个批次样本大小\n",
    "lr = 0.0003  # 学习率\n",
    "image_path = './train'  # 图像数据路径\n",
    "save_path = './best_model.pkl'  # 模型保存路径\n",
    "device = torch.device('cuda:0' if torch.cuda.is_available() else 'cpu')  # 设备\n",
    "\n",
    "# 1.数据转换\n",
    "data_transform = {\n",
    "    # 训练中的数据增强和归一化\n",
    "    'train': transforms.Compose([\n",
    "        transforms.RandomResizedCrop(150),  # 随机裁剪\n",
    "        transforms.ToTensor(),  # 均值方差归一化\n",
    "        transforms.Normalize([0.485, 0.456, 0.406], [0.229, 0.224, 0.225])\n",
    "    ])\n",
    "}\n",
    "\n",
    "# 2.形成训练集\n",
    "train_dataset = datasets.ImageFolder(root=os.path.join(image_path),\n",
    "                                     transform=data_transform['train'])\n",
    "\n",
    "# 3.形成迭代器\n",
    "train_loader = torch.utils.data.DataLoader(train_dataset,\n",
    "                                           batch_size,\n",
    "                                           True)\n",
    "\n",
    "print('using {} images for training.'.format(len(train_dataset)))\n",
    "\n",
    "# 4.建立分类标签与索引的关系\n",
    "cloth_list = train_dataset.class_to_idx\n",
    "class_dict = {}\n",
    "for key, val in cloth_list.items():\n",
    "    class_dict[val] = key\n",
    "with open('class_dict.pk', 'wb') as f:\n",
    "    pickle.dump(class_dict, f)\n",
    "\n",
    "\n",
    "class LeNet5(nn.Module):\n",
    "    def __init__(self, num_class):\n",
    "        super(LeNet5, self).__init__()\n",
    "        self.conv1 = nn.Conv2d(3, 8, 5)\n",
    "        self.pool1 = nn.AvgPool2d((2, 2))\n",
    "\n",
    "        self.conv2 = nn.Conv2d(8, 16, 5)\n",
    "        self.pool2 = nn.AvgPool2d((2, 2))\n",
    "\n",
    "        self.conv3 = nn.Conv2d(16, 32, 5)\n",
    "\n",
    "        self.relu = nn.ReLU()\n",
    "\n",
    "        self.fc1 = nn.Linear(28800, 1024)\n",
    "        self.fc2 = nn.Linear(1024, num_class)\n",
    "\n",
    "    def forward(self, x):\n",
    "        # x: torch.Size([32, 3, 150, 150])\n",
    "\n",
    "        x = self.conv1(x)  # torch.Size([32, 8, 146, 146])\n",
    "        x = self.relu(x)\n",
    "        x = self.pool1(x)  # torch.Size([32, 8, 73, 73])\n",
    "\n",
    "        x = self.conv2(x)  # torch.Size([32, 16, 69, 69])\n",
    "        x = self.relu(x)\n",
    "        x = self.pool2(x)  # torch.Size([32, 16, 34, 34])\n",
    "\n",
    "        x = self.conv3(x)  # torch.Size([32, 32, 30, 30])\n",
    "        x = self.relu(x)\n",
    "\n",
    "        x = x.flatten(start_dim=1)  # torch.Size([32, 28800])\n",
    "\n",
    "        x = self.fc1(x)  # torch.Size([32, 2024])\n",
    "        x = self.relu(x)\n",
    "        x = self.fc2(x)  # torch.Size([32, 4])\n",
    "\n",
    "        return x\n",
    "\n",
    "\n",
    "# 6.模型训练\n",
    "model = LeNet5(num_class)\n",
    "model = model.to(device)\n",
    "criterion = nn.CrossEntropyLoss()  # 损失函数\n",
    "optimizer = torch.optim.Adam(model.parameters(), lr=lr)  # 优化器\n",
    "running_loss_plot = []\n",
    "epoch_acc_plot = []\n",
    "\n",
    "best_acc = 0  # 最优精确率\n",
    "best_model = None  # 最优模型参数\n",
    "\n",
    "for epoch in range(epochs):\n",
    "    model.train()\n",
    "    running_loss = 0  # 损失\n",
    "    epoch_acc = 0  # 每个epoch的准确率\n",
    "    epoch_acc_count = 0  # 每个epoch训练的样本数\n",
    "    train_count = 0  # 用于计算总的样本数，方便求准确率\n",
    "    train_bar = tqdm(train_loader)\n",
    "    for data in train_bar:\n",
    "        images, labels = data\n",
    "        optimizer.zero_grad()\n",
    "        output = model(images.to(device))\n",
    "        loss = criterion(output, labels.to(device))\n",
    "        loss.backward()\n",
    "        optimizer.step()\n",
    "\n",
    "        running_loss += loss.item()\n",
    "        train_bar.desc = \"train epoch[{}/{}] loss:{:.3f}\".format(epoch + 1,\n",
    "                                                                 epochs,\n",
    "                                                                 loss)\n",
    "        # 计算每个epoch正确的个数\n",
    "        epoch_acc_count += (output.argmax(axis=1) == labels.view(-1)).sum()\n",
    "        train_count += len(images)\n",
    "\n",
    "    # 每个epoch对应的准确率\n",
    "    epoch_acc = epoch_acc_count / train_count\n",
    "\n",
    "    # 打印信息\n",
    "    print(\"【EPOCH: 】%s\" % str(epoch + 1))\n",
    "    print(\"训练损失为%s\" % str(running_loss))\n",
    "    print(\"训练精度为%s\" % (str(epoch_acc.item() * 100)[:5]) + '%')\n",
    "    running_loss_plot.append(running_loss)\n",
    "    epoch_acc_plot.append(epoch_acc)\n",
    "\n",
    "    if epoch_acc > best_acc:\n",
    "        best_acc = epoch_acc\n",
    "        best_model = model.state_dict()\n",
    "\n",
    "    # 在训练结束保存最优的模型参数\n",
    "    if epoch == epochs - 1:\n",
    "        # 保存模型\n",
    "        torch.save(best_model, save_path)\n",
    "\n",
    "print(\"最优精度为%s\" % (str(best_acc.item() * 100)[:5]) + '%')\n",
    "print('Finished Training')\n",
    "plt.figure()\n",
    "plt.plot(epoch_acc_plot,'b',label = 'epoch_acc_loss')\n",
    "plt.ylabel('epoch_acc_loss')\n",
    "plt.xlabel('iter_num')\n",
    "plt.legend()\n",
    "\n",
    "plt.figure()\n",
    "plt.plot(running_loss_plot,'r',label = 'running_loss')\n",
    "plt.ylabel('running_loss')\n",
    "plt.xlabel('iter_num')\n",
    "plt.legend()"
   ]
  },
  {
   "cell_type": "code",
   "execution_count": 13,
   "metadata": {
    "collapsed": false,
    "pycharm": {
     "name": "#%%\n"
    }
   },
   "outputs": [
    {
     "name": "stderr",
     "output_type": "stream",
     "text": [
      "Clipping input data to the valid range for imshow with RGB data ([0..1] for floats or [0..255] for integers).\n"
     ]
    },
    {
     "name": "stdout",
     "output_type": "stream",
     "text": [
      "(92, 96, 3)\n"
     ]
    },
    {
     "data": {
      "image/png": "[encoded data removed]",
      "text/plain": [
       "<Figure size 640x480 with 1 Axes>"
      ]
     },
     "metadata": {},
     "output_type": "display_data"
    },
    {
     "name": "stdout",
     "output_type": "stream",
     "text": [
      "【预测结果分类】：Arial\n"
     ]
    }
   ],
   "source": [
    "from PIL import ImageFile\n",
    "ImageFile.LOAD_TRUNCATED_IMAGES = True\n",
    "# 加载索引与标签映射字典\n",
    "with open('class_dict.pk', 'rb') as f:\n",
    "    class_dict = pickle.load(f)\n",
    "\n",
    "# 数据变换\n",
    "data_transform = transforms.Compose([\n",
    "    transforms.CenterCrop(150),\n",
    "    transforms.ToTensor(),\n",
    "    transforms.Normalize([0.485, 0.456, 0.406], [0.229, 0.224, 0.225])])\n",
    "\n",
    "# 图片路径\n",
    "img_path = r'./test1/TA1.png'\n",
    "\n",
    "# 打开图像\n",
    "img = Image.open(img_path).convert('RGB')\n",
    "print(np.array(img).shape)\n",
    "\n",
    "# 对图像进行变换\n",
    "img = data_transform(img)\n",
    "\n",
    "plt.imshow(img.permute(1, 2, 0))\n",
    "plt.show()\n",
    "\n",
    "# 将图像升维，增加batch_size维度\n",
    "img = torch.unsqueeze(img, dim=0)\n",
    "\n",
    "# 获取预测结果\n",
    "pred = class_dict[model(img).argmax(axis=1).item()]\n",
    "print('【预测结果分类】：%s' % pred)"
   ]
  }
 ],
 "metadata": {
  "kernelspec": {
   "display_name": "Python 3.10.8 64-bit",
   "language": "python",
   "name": "python3"
  },
  "language_info": {
   "codemirror_mode": {
    "name": "ipython",
    "version": 2
   },
   "file_extension": ".py",
   "mimetype": "text/x-python",
   "name": "python",
   "nbconvert_exporter": "python",
   "pygments_lexer": "ipython2",
   "version": "3.10.8"
  },
  "vscode": {
   "interpreter": {
    "hash": "f7401c3a6738d15d752740af9785731698b5ffd5adfb1a735c0bc94da9902075"
   }
  }
 },
 "nbformat": 4,
 "nbformat_minor": 0
}
